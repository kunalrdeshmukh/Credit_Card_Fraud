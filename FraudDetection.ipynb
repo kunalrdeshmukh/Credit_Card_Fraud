{
 "cells": [
  {
   "cell_type": "code",
   "execution_count": 1,
   "metadata": {
    "collapsed": true
   },
   "outputs": [],
   "source": [
    "import pandas as pd\n",
    "import numpy as np\n",
    "import sklearn as sk"
   ]
  },
  {
   "cell_type": "code",
   "execution_count": 2,
   "metadata": {
    "collapsed": true
   },
   "outputs": [],
   "source": [
    "df=pd.read_csv(\"creditcard.csv\")"
   ]
  },
  {
   "cell_type": "code",
   "execution_count": 3,
   "metadata": {},
   "outputs": [
    {
     "data": {
      "text/html": [
       "<div>\n",
       "<style>\n",
       "    .dataframe thead tr:only-child th {\n",
       "        text-align: right;\n",
       "    }\n",
       "\n",
       "    .dataframe thead th {\n",
       "        text-align: left;\n",
       "    }\n",
       "\n",
       "    .dataframe tbody tr th {\n",
       "        vertical-align: top;\n",
       "    }\n",
       "</style>\n",
       "<table border=\"1\" class=\"dataframe\">\n",
       "  <thead>\n",
       "    <tr style=\"text-align: right;\">\n",
       "      <th></th>\n",
       "      <th>Time</th>\n",
       "      <th>V1</th>\n",
       "      <th>V2</th>\n",
       "      <th>V3</th>\n",
       "      <th>V4</th>\n",
       "      <th>V5</th>\n",
       "      <th>V6</th>\n",
       "      <th>V7</th>\n",
       "      <th>V8</th>\n",
       "      <th>V9</th>\n",
       "      <th>...</th>\n",
       "      <th>V21</th>\n",
       "      <th>V22</th>\n",
       "      <th>V23</th>\n",
       "      <th>V24</th>\n",
       "      <th>V25</th>\n",
       "      <th>V26</th>\n",
       "      <th>V27</th>\n",
       "      <th>V28</th>\n",
       "      <th>Amount</th>\n",
       "      <th>Class</th>\n",
       "    </tr>\n",
       "  </thead>\n",
       "  <tbody>\n",
       "    <tr>\n",
       "      <th>0</th>\n",
       "      <td>0.0</td>\n",
       "      <td>-1.359807</td>\n",
       "      <td>-0.072781</td>\n",
       "      <td>2.536347</td>\n",
       "      <td>1.378155</td>\n",
       "      <td>-0.338321</td>\n",
       "      <td>0.462388</td>\n",
       "      <td>0.239599</td>\n",
       "      <td>0.098698</td>\n",
       "      <td>0.363787</td>\n",
       "      <td>...</td>\n",
       "      <td>-0.018307</td>\n",
       "      <td>0.277838</td>\n",
       "      <td>-0.110474</td>\n",
       "      <td>0.066928</td>\n",
       "      <td>0.128539</td>\n",
       "      <td>-0.189115</td>\n",
       "      <td>0.133558</td>\n",
       "      <td>-0.021053</td>\n",
       "      <td>149.62</td>\n",
       "      <td>0</td>\n",
       "    </tr>\n",
       "    <tr>\n",
       "      <th>1</th>\n",
       "      <td>0.0</td>\n",
       "      <td>1.191857</td>\n",
       "      <td>0.266151</td>\n",
       "      <td>0.166480</td>\n",
       "      <td>0.448154</td>\n",
       "      <td>0.060018</td>\n",
       "      <td>-0.082361</td>\n",
       "      <td>-0.078803</td>\n",
       "      <td>0.085102</td>\n",
       "      <td>-0.255425</td>\n",
       "      <td>...</td>\n",
       "      <td>-0.225775</td>\n",
       "      <td>-0.638672</td>\n",
       "      <td>0.101288</td>\n",
       "      <td>-0.339846</td>\n",
       "      <td>0.167170</td>\n",
       "      <td>0.125895</td>\n",
       "      <td>-0.008983</td>\n",
       "      <td>0.014724</td>\n",
       "      <td>2.69</td>\n",
       "      <td>0</td>\n",
       "    </tr>\n",
       "  </tbody>\n",
       "</table>\n",
       "<p>2 rows × 31 columns</p>\n",
       "</div>"
      ],
      "text/plain": [
       "   Time        V1        V2        V3        V4        V5        V6        V7  \\\n",
       "0   0.0 -1.359807 -0.072781  2.536347  1.378155 -0.338321  0.462388  0.239599   \n",
       "1   0.0  1.191857  0.266151  0.166480  0.448154  0.060018 -0.082361 -0.078803   \n",
       "\n",
       "         V8        V9  ...         V21       V22       V23       V24  \\\n",
       "0  0.098698  0.363787  ...   -0.018307  0.277838 -0.110474  0.066928   \n",
       "1  0.085102 -0.255425  ...   -0.225775 -0.638672  0.101288 -0.339846   \n",
       "\n",
       "        V25       V26       V27       V28  Amount  Class  \n",
       "0  0.128539 -0.189115  0.133558 -0.021053  149.62      0  \n",
       "1  0.167170  0.125895 -0.008983  0.014724    2.69      0  \n",
       "\n",
       "[2 rows x 31 columns]"
      ]
     },
     "execution_count": 3,
     "metadata": {},
     "output_type": "execute_result"
    }
   ],
   "source": [
    "df[0:2]"
   ]
  },
  {
   "cell_type": "code",
   "execution_count": 4,
   "metadata": {},
   "outputs": [
    {
     "data": {
      "text/plain": [
       "Time      0\n",
       "V1        0\n",
       "V2        0\n",
       "V3        0\n",
       "V4        0\n",
       "V5        0\n",
       "V6        0\n",
       "V7        0\n",
       "V8        0\n",
       "V9        0\n",
       "V10       0\n",
       "V11       0\n",
       "V12       0\n",
       "V13       0\n",
       "V14       0\n",
       "V15       0\n",
       "V16       0\n",
       "V17       0\n",
       "V18       0\n",
       "V19       0\n",
       "V20       0\n",
       "V21       0\n",
       "V22       0\n",
       "V23       0\n",
       "V24       0\n",
       "V25       0\n",
       "V26       0\n",
       "V27       0\n",
       "V28       0\n",
       "Amount    0\n",
       "Class     0\n",
       "dtype: int64"
      ]
     },
     "execution_count": 4,
     "metadata": {},
     "output_type": "execute_result"
    }
   ],
   "source": [
    "df.isnull().sum()"
   ]
  },
  {
   "cell_type": "code",
   "execution_count": 5,
   "metadata": {
    "collapsed": true
   },
   "outputs": [],
   "source": [
    "from sklearn.utils import resample\n",
    "df_majority=df[df.Class==0]\n",
    "df_minority=df[df.Class==1]\n",
    "df_minority_upsampled=resample(df_minority,n_samples=284315, random_state=123)\n",
    "df_upsampled=pd.concat([df_majority,df_minority_upsampled])"
   ]
  },
  {
   "cell_type": "code",
   "execution_count": 6,
   "metadata": {
    "collapsed": true
   },
   "outputs": [],
   "source": [
    "df1 = df_upsampled[['V17', 'V14', 'V12', 'V16', 'V4', 'V11', 'V10', 'V3']].copy()\n",
    "df2 = df[['V17', 'V14', 'V12', 'V16', 'V4', 'V11', 'V10', 'V3']].copy()"
   ]
  },
  {
   "cell_type": "code",
   "execution_count": 7,
   "metadata": {
    "collapsed": true
   },
   "outputs": [],
   "source": [
    "y=df_upsampled.Class\n",
    "x=df1\n",
    "y_real=df.Class\n",
    "x_real=df2\n",
    "from sklearn import preprocessing\n",
    "# x = preprocessing.normalize(x)\n",
    "# x = preprocessing.scale(x)\n",
    "from sklearn.model_selection import train_test_split\n",
    "x_train,x_test,y_train,y_test=train_test_split(x,y,test_size=0.3)"
   ]
  },
  {
   "cell_type": "code",
   "execution_count": 8,
   "metadata": {},
   "outputs": [
    {
     "data": {
      "text/plain": [
       "DecisionTreeClassifier(class_weight=None, criterion='gini', max_depth=30,\n",
       "            max_features=None, max_leaf_nodes=None,\n",
       "            min_impurity_split=1e-07, min_samples_leaf=1,\n",
       "            min_samples_split=2, min_weight_fraction_leaf=0.0,\n",
       "            presort=False, random_state=None, splitter='best')"
      ]
     },
     "execution_count": 8,
     "metadata": {},
     "output_type": "execute_result"
    }
   ],
   "source": [
    "from sklearn.tree import DecisionTreeClassifier\n",
    "dtc = DecisionTreeClassifier(max_depth=30)\n",
    "dtc.fit(x_train,y_train)"
   ]
  },
  {
   "cell_type": "code",
   "execution_count": 9,
   "metadata": {
    "collapsed": true
   },
   "outputs": [],
   "source": [
    "pred=dtc.predict(x_real)"
   ]
  },
  {
   "cell_type": "code",
   "execution_count": 10,
   "metadata": {},
   "outputs": [
    {
     "name": "stdout",
     "output_type": "stream",
     "text": [
      "('Accuracy= ', 0.99985955401377069)\n",
      "('Classification Report=\\n', '             precision    recall  f1-score   support\\n\\n          0       1.00      1.00      1.00    284315\\n          1       0.92      1.00      0.96       492\\n\\navg / total       1.00      1.00      1.00    284807\\n')\n",
      "('TP=', 492)\n",
      "('FP=', 40)\n",
      "('FN=', 0)\n",
      "('TN=', 284275)\n"
     ]
    }
   ],
   "source": [
    "from sklearn.metrics import classification_report,confusion_matrix, precision_recall_curve, roc_curve, auc\n",
    "from sklearn.metrics import accuracy_score\n",
    "print(\"Accuracy= \",accuracy_score(pred,y_real))\n",
    "print(\"Classification Report=\\n\",classification_report(y_real,pred))\n",
    "tn, fp, fn, tp = confusion_matrix(y_real,pred).ravel()\n",
    "print(\"TP=\",tp)\n",
    "print(\"FP=\",fp)\n",
    "print(\"FN=\",fn)\n",
    "print(\"TN=\",tn)"
   ]
  },
  {
   "cell_type": "code",
   "execution_count": 11,
   "metadata": {
    "collapsed": true
   },
   "outputs": [],
   "source": [
    "precision_dt, recall_dt, _ = precision_recall_curve(y_real,pred)\n",
    "FPR_dt,TPR_dt,_ = sk.metrics.roc_curve(y_real,pred)"
   ]
  },
  {
   "cell_type": "code",
   "execution_count": 12,
   "metadata": {},
   "outputs": [
    {
     "data": {
      "text/plain": [
       "RandomForestClassifier(bootstrap=True, class_weight=None, criterion='gini',\n",
       "            max_depth=30, max_features='auto', max_leaf_nodes=None,\n",
       "            min_impurity_split=1e-07, min_samples_leaf=1,\n",
       "            min_samples_split=2, min_weight_fraction_leaf=0.0,\n",
       "            n_estimators=10, n_jobs=1, oob_score=False, random_state=None,\n",
       "            verbose=0, warm_start=False)"
      ]
     },
     "execution_count": 12,
     "metadata": {},
     "output_type": "execute_result"
    }
   ],
   "source": [
    "from sklearn.ensemble import RandomForestClassifier\n",
    "rfc = RandomForestClassifier(max_depth=30)\n",
    "rfc.fit(x_train,y_train)"
   ]
  },
  {
   "cell_type": "code",
   "execution_count": 13,
   "metadata": {
    "collapsed": true
   },
   "outputs": [],
   "source": [
    "pred_RFC= rfc.predict(x_real)"
   ]
  },
  {
   "cell_type": "code",
   "execution_count": 14,
   "metadata": {},
   "outputs": [
    {
     "name": "stdout",
     "output_type": "stream",
     "text": [
      "('Accuracy= ', 0.99997191080275416)\n",
      "('Classification Report=\\n', '             precision    recall  f1-score   support\\n\\n          0       1.00      1.00      1.00    284315\\n          1       0.98      1.00      0.99       492\\n\\navg / total       1.00      1.00      1.00    284807\\n')\n",
      "('TP=', 492)\n",
      "('FP=', 8)\n",
      "('FN=', 0)\n",
      "('TN=', 284307)\n"
     ]
    }
   ],
   "source": [
    "print(\"Accuracy= \",accuracy_score(pred_RFC,y_real))\n",
    "print(\"Classification Report=\\n\",classification_report(y_real,pred_RFC))\n",
    "tn, fp, fn, tp = confusion_matrix(y_real,pred_RFC).ravel()\n",
    "print(\"TP=\",tp)\n",
    "print(\"FP=\",fp)\n",
    "print(\"FN=\",fn)\n",
    "print(\"TN=\",tn)"
   ]
  },
  {
   "cell_type": "code",
   "execution_count": null,
   "metadata": {},
   "outputs": [],
   "source": [
    "precision_rf, recall_rf, _ = precision_recall_curve(y_real,pred_RFC)\n",
    "FPR_rf,TPR_rf,_ = roc_curve(y_real,pred_RFC)"
   ]
  },
  {
   "cell_type": "code",
   "execution_count": null,
   "metadata": {},
   "outputs": [],
   "source": [
    "from sklearn.neural_network import MLPClassifier\n",
    "mlp=MLPClassifier(hidden_layer_sizes=(25,20,20,20,15),max_iter=1500, batch_size=1500)\n",
    "mlp.fit(x_train,y_train)"
   ]
  },
  {
   "cell_type": "code",
   "execution_count": null,
   "metadata": {},
   "outputs": [],
   "source": [
    "pred_MLP= mlp.predict(x_real)"
   ]
  },
  {
   "cell_type": "code",
   "execution_count": null,
   "metadata": {},
   "outputs": [],
   "source": [
    "print(\"MLP\")\n",
    "print(\"Accuracy= \",accuracy_score(pred_MLP,y_real))\n",
    "print(\"Classification Report=\\n\",classification_report(y_real,pred_MLP))\n",
    "tn, fp, fn, tp = confusion_matrix(y_real,pred_MLP).ravel()\n",
    "print(\"TP=\",tp)\n",
    "print(\"FP=\",fp)\n",
    "print(\"FN=\",fn)\n",
    "print(\"TN=\",tn)"
   ]
  },
  {
   "cell_type": "code",
   "execution_count": null,
   "metadata": {
    "collapsed": true
   },
   "outputs": [],
   "source": [
    "precision_mlp, recall_mlp, _ = precision_recall_curve(y_real,pred_MLP)\n",
    "FPR_mlp,TPR_mlp,_ = roc_curve(y_real,pred_MLP)"
   ]
  },
  {
   "cell_type": "code",
   "execution_count": null,
   "metadata": {},
   "outputs": [],
   "source": [
    "from sklearn import svm\n",
    "svm_classifier = sk.svm.SVC()\n",
    "svm_classifier.fit(x_train,y_train)"
   ]
  },
  {
   "cell_type": "code",
   "execution_count": null,
   "metadata": {
    "collapsed": true
   },
   "outputs": [],
   "source": [
    "pred_SVM = svm_classifier.predict(x_real)"
   ]
  },
  {
   "cell_type": "code",
   "execution_count": null,
   "metadata": {},
   "outputs": [],
   "source": [
    "print(\"SVM\")\n",
    "print(\"Accuracy= \",accuracy_score(pred_SVM,y_real))\n",
    "print(\"Classification Report=\\n\",classification_report(y_real,pred_SVM))\n",
    "tn, fp, fn, tp = confusion_matrix(y_real,pred_SVM).ravel()\n",
    "print(\"TP=\",tp)\n",
    "print(\"FP=\",fp)\n",
    "print(\"FN=\",fn)\n",
    "print(\"TN=\",tn)"
   ]
  },
  {
   "cell_type": "code",
   "execution_count": null,
   "metadata": {
    "collapsed": true
   },
   "outputs": [],
   "source": [
    "precision_svm, recall_svm, _ = precision_recall_curve(y_real,pred_SVM)\n",
    "FPR_svm,TPR_svm,_ = roc_curve(y_real,pred_SVM)"
   ]
  },
  {
   "cell_type": "code",
   "execution_count": null,
   "metadata": {
    "collapsed": true
   },
   "outputs": [],
   "source": [
    "print \"ROC curve\"\n",
    "line_dt, = plt.plot(FPR_dt,TPR_dt,label='Decision Tree')\n",
    "line_rf, = plt.plot(FPR_rf,TPR_rf,label='Random Forest')\n",
    "line_mlp, = plt.plot(FPR_mlp,TPR_mlp,label='MLP')\n",
    "line_svm, = plt.plot(FPR_svm,TPR_svm,label='SVM')\n",
    "plt.legend(handles=[line_dt, line_rf,line_mlp, line_svm])\n",
    "plt.title(\"ROC curve\")\n",
    "plt.ylabel('True Positive Rate')\n",
    "plt.xlabel('False Positive Rate')\n",
    "plt.show()"
   ]
  },
  {
   "cell_type": "code",
   "execution_count": null,
   "metadata": {
    "collapsed": true
   },
   "outputs": [],
   "source": [
    "print \"Area under curve: DT,RF,MLP,SVM\"\n",
    "print auc(FPR_dt,TPR_dt),auc(FPR_rf,TPR_rf),auc(FPR_mlp,TPR_mlp),auc(FPR_svm,TPR_svm)"
   ]
  },
  {
   "cell_type": "code",
   "execution_count": null,
   "metadata": {
    "collapsed": true
   },
   "outputs": [],
   "source": [
    "print \"PR curve\"\n",
    "line_dt, = plt.plot(recall_dt,precision_dt,label='Decision Tree')\n",
    "line_rf, = plt.plot(recall_rf,precision_rf,label='Random Forest')\n",
    "line_mlp, = plt.plot(recall_mlp,precision_mlp,label='MLP')\n",
    "line_svm, = plt.plot(recall_svm,precision_svm,label='SVM')\n",
    "plt.legend(handles=[line_dt, line_rf,line_mlp, line_svm])\n",
    "plt.title(\"PR curve\")\n",
    "plt.ylabel('Precision')\n",
    "plt.xlabel('Recall')\n",
    "plt.show()\n",
    "print \"Area under the curve for Decision Tree: \""
   ]
  },
  {
   "cell_type": "code",
   "execution_count": null,
   "metadata": {
    "collapsed": true
   },
   "outputs": [],
   "source": [
    "print \"Area under curve: DT,RF,MLP,SVM\"\n",
    "print auc(recall_dt,precision_dt),auc(recall_rf,precision_rf),auc(recall_mlp,precision_mlp),auc(recall_svm,precision_svm)"
   ]
  }
 ],
 "metadata": {
  "kernelspec": {
   "display_name": "Python 2",
   "language": "python",
   "name": "python2"
  },
  "language_info": {
   "codemirror_mode": {
    "name": "ipython",
    "version": 2
   },
   "file_extension": ".py",
   "mimetype": "text/x-python",
   "name": "python",
   "nbconvert_exporter": "python",
   "pygments_lexer": "ipython2",
   "version": "2.7.13"
  }
 },
 "nbformat": 4,
 "nbformat_minor": 2
}
